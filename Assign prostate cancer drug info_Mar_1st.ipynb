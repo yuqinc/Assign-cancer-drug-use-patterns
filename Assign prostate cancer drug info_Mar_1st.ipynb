{
 "cells": [
  {
   "cell_type": "markdown",
   "metadata": {},
   "source": [
    "# README.md\n",
    "\n",
    "# Research question: for these 399 pts what are the drug use Y/N status for each category"
   ]
  },
  {
   "cell_type": "markdown",
   "metadata": {},
   "source": [
    "## Table of Contents\n",
    "* [Read data, clean up and get stats](#first-bullet)\n",
    "* [Assign drug use status per row](#second-bullet)"
   ]
  },
  {
   "cell_type": "markdown",
   "metadata": {},
   "source": [
    "# Read data, clean up and get stats <a class=\"anchor\" id=\"first-bullet\"></a>"
   ]
  },
  {
   "cell_type": "code",
   "execution_count": 1,
   "metadata": {},
   "outputs": [],
   "source": [
    "import numpy as np\n",
    "import pandas as pd\n",
    "import sys, getopt\n",
    "import csv\n",
    "from datetime import datetime\n",
    "import itertools\n",
    "\n",
    "import matplotlib.pyplot as plt\n",
    "from matplotlib import pyplot\n",
    "from pylab import *\n",
    "\n",
    "%matplotlib inline  \n",
    "import seaborn as sns"
   ]
  },
  {
   "cell_type": "code",
   "execution_count": 14,
   "metadata": {
    "scrolled": true
   },
   "outputs": [],
   "source": [
    "df1=pd.read_csv(\"full_patient_level_202103021234_fixed_lost_pt_list.csv\",header=0)\n",
    "df2=pd.read_excel(\"pt_list_all_rows.xlsx\", header=0) "
   ]
  },
  {
   "cell_type": "code",
   "execution_count": 15,
   "metadata": {},
   "outputs": [
    {
     "name": "stdout",
     "output_type": "stream",
     "text": [
      "899\n",
      "399\n"
     ]
    }
   ],
   "source": [
    "result_row_list=df2[\"person_id\"].to_list()\n",
    "df2[:5]\n",
    "#print(len(result_pt_list))\n",
    "print(len(result_row_list))\n",
    "unique_result_pt_list=set(result_row_list)\n",
    "print(len(unique_result_pt_list))"
   ]
  },
  {
   "cell_type": "code",
   "execution_count": 16,
   "metadata": {},
   "outputs": [
    {
     "data": {
      "text/html": [
       "<div>\n",
       "<style scoped>\n",
       "    .dataframe tbody tr th:only-of-type {\n",
       "        vertical-align: middle;\n",
       "    }\n",
       "\n",
       "    .dataframe tbody tr th {\n",
       "        vertical-align: top;\n",
       "    }\n",
       "\n",
       "    .dataframe thead th {\n",
       "        text-align: right;\n",
       "    }\n",
       "</style>\n",
       "<table border=\"1\" class=\"dataframe\">\n",
       "  <thead>\n",
       "    <tr style=\"text-align: right;\">\n",
       "      <th></th>\n",
       "      <th>person_id</th>\n",
       "      <th>cancer_drug</th>\n",
       "      <th>category</th>\n",
       "      <th>start_date_source</th>\n",
       "      <th>start_date_note_id</th>\n",
       "      <th>start_date_note_date</th>\n",
       "      <th>start_date_sent_id</th>\n",
       "      <th>start_date_evidence</th>\n",
       "      <th>start_date_matched_text</th>\n",
       "      <th>start_date_year</th>\n",
       "      <th>...</th>\n",
       "      <th>ajcc_pathological_t</th>\n",
       "      <th>ajcc_pathological_n</th>\n",
       "      <th>ajcc_pathological_m</th>\n",
       "      <th>overall_stage</th>\n",
       "      <th>histologic_type_id</th>\n",
       "      <th>status</th>\n",
       "      <th>created_at</th>\n",
       "      <th>updated_at</th>\n",
       "      <th>primary_site_id</th>\n",
       "      <th>edited_attributes</th>\n",
       "    </tr>\n",
       "  </thead>\n",
       "  <tbody>\n",
       "    <tr>\n",
       "      <td>0</td>\n",
       "      <td>2</td>\n",
       "      <td>Abiraterone</td>\n",
       "      <td>Hormone Therapy</td>\n",
       "      <td>Notes</td>\n",
       "      <td>10942894.0</td>\n",
       "      <td>2013-09-04</td>\n",
       "      <td>285738001.0</td>\n",
       "      <td>Noted to have CRPC 8/28/13 thus started on Abi...</td>\n",
       "      <td>abiraterone</td>\n",
       "      <td>2012.0</td>\n",
       "      <td>...</td>\n",
       "      <td>Not Reported</td>\n",
       "      <td>Not Reported</td>\n",
       "      <td>Not Reported</td>\n",
       "      <td>IV</td>\n",
       "      <td>101</td>\n",
       "      <td>reviewed</td>\n",
       "      <td>2019-08-20 21:56:15</td>\n",
       "      <td>2019-08-21 13:09:23</td>\n",
       "      <td>24</td>\n",
       "      <td>NaN</td>\n",
       "    </tr>\n",
       "    <tr>\n",
       "      <td>1</td>\n",
       "      <td>2</td>\n",
       "      <td>Docetaxel</td>\n",
       "      <td>Chemotherapy</td>\n",
       "      <td>MedTable</td>\n",
       "      <td>NaN</td>\n",
       "      <td>NaN</td>\n",
       "      <td>NaN</td>\n",
       "      <td>DOCETAXEL INFUSION</td>\n",
       "      <td>docetaxel</td>\n",
       "      <td>2016.0</td>\n",
       "      <td>...</td>\n",
       "      <td>Not Reported</td>\n",
       "      <td>Not Reported</td>\n",
       "      <td>Not Reported</td>\n",
       "      <td>IV</td>\n",
       "      <td>101</td>\n",
       "      <td>reviewed</td>\n",
       "      <td>2019-08-20 21:56:15</td>\n",
       "      <td>2019-08-21 13:09:23</td>\n",
       "      <td>24</td>\n",
       "      <td>NaN</td>\n",
       "    </tr>\n",
       "    <tr>\n",
       "      <td>2</td>\n",
       "      <td>2</td>\n",
       "      <td>Leuprolide</td>\n",
       "      <td>Hormone Therapy</td>\n",
       "      <td>Notes</td>\n",
       "      <td>10942894.0</td>\n",
       "      <td>2013-09-04</td>\n",
       "      <td>286863310.0</td>\n",
       "      <td>By 2/10/09, his PSA had risen to 7.03 thus res...</td>\n",
       "      <td>lupron</td>\n",
       "      <td>2009.0</td>\n",
       "      <td>...</td>\n",
       "      <td>Not Reported</td>\n",
       "      <td>Not Reported</td>\n",
       "      <td>Not Reported</td>\n",
       "      <td>IV</td>\n",
       "      <td>101</td>\n",
       "      <td>reviewed</td>\n",
       "      <td>2019-08-20 21:56:15</td>\n",
       "      <td>2019-08-21 13:09:23</td>\n",
       "      <td>24</td>\n",
       "      <td>NaN</td>\n",
       "    </tr>\n",
       "  </tbody>\n",
       "</table>\n",
       "<p>3 rows × 48 columns</p>\n",
       "</div>"
      ],
      "text/plain": [
       "   person_id  cancer_drug         category start_date_source  \\\n",
       "0          2  Abiraterone  Hormone Therapy             Notes   \n",
       "1          2    Docetaxel     Chemotherapy          MedTable   \n",
       "2          2   Leuprolide  Hormone Therapy             Notes   \n",
       "\n",
       "   start_date_note_id start_date_note_date  start_date_sent_id  \\\n",
       "0          10942894.0           2013-09-04         285738001.0   \n",
       "1                 NaN                  NaN                 NaN   \n",
       "2          10942894.0           2013-09-04         286863310.0   \n",
       "\n",
       "                                 start_date_evidence start_date_matched_text  \\\n",
       "0  Noted to have CRPC 8/28/13 thus started on Abi...             abiraterone   \n",
       "1                                 DOCETAXEL INFUSION               docetaxel   \n",
       "2  By 2/10/09, his PSA had risen to 7.03 thus res...                  lupron   \n",
       "\n",
       "   start_date_year  ...  ajcc_pathological_t  ajcc_pathological_n  \\\n",
       "0           2012.0  ...         Not Reported         Not Reported   \n",
       "1           2016.0  ...         Not Reported         Not Reported   \n",
       "2           2009.0  ...         Not Reported         Not Reported   \n",
       "\n",
       "  ajcc_pathological_m  overall_stage histologic_type_id    status  \\\n",
       "0        Not Reported             IV                101  reviewed   \n",
       "1        Not Reported             IV                101  reviewed   \n",
       "2        Not Reported             IV                101  reviewed   \n",
       "\n",
       "            created_at           updated_at  primary_site_id  \\\n",
       "0  2019-08-20 21:56:15  2019-08-21 13:09:23               24   \n",
       "1  2019-08-20 21:56:15  2019-08-21 13:09:23               24   \n",
       "2  2019-08-20 21:56:15  2019-08-21 13:09:23               24   \n",
       "\n",
       "   edited_attributes  \n",
       "0                NaN  \n",
       "1                NaN  \n",
       "2                NaN  \n",
       "\n",
       "[3 rows x 48 columns]"
      ]
     },
     "execution_count": 16,
     "metadata": {},
     "output_type": "execute_result"
    }
   ],
   "source": [
    "df1[:3]"
   ]
  },
  {
   "cell_type": "code",
   "execution_count": 17,
   "metadata": {
    "scrolled": true
   },
   "outputs": [
    {
     "data": {
      "text/plain": [
       "Index(['person_id', 'cancer_drug', 'category', 'start_date_source',\n",
       "       'start_date_note_id', 'start_date_note_date', 'start_date_sent_id',\n",
       "       'start_date_evidence', 'start_date_matched_text', 'start_date_year',\n",
       "       'start_date_month', 'start_date_day', 'end_date_source',\n",
       "       'end_date_note_id', 'end_date_note_date', 'end_date_sent_id',\n",
       "       'end_date_evidence', 'end_date_matched_text', 'end_date_year',\n",
       "       'end_date_month', 'end_date_day', 'first_mentioned_note_id',\n",
       "       'first_mentioned_note_date', 'first_mentioned_evidence',\n",
       "       'first_mentioned_matched_text', 'last_mentioned_note_id',\n",
       "       'last_mentioned_note_date', 'last_mentioned_evidence',\n",
       "       'last_mentioned_text', 'cancer_diagnosis_id', 'person_id.1',\n",
       "       'cancer_type_id', 'year_of_diagnosis', 'month_of_diagnosis',\n",
       "       'day_of_diagnosis', 'ajcc_clinical_t', 'ajcc_clinical_n',\n",
       "       'ajcc_clinical_m', 'ajcc_pathological_t', 'ajcc_pathological_n',\n",
       "       'ajcc_pathological_m', 'overall_stage', 'histologic_type_id', 'status',\n",
       "       'created_at', 'updated_at', 'primary_site_id', 'edited_attributes'],\n",
       "      dtype='object')"
      ]
     },
     "execution_count": 17,
     "metadata": {},
     "output_type": "execute_result"
    }
   ],
   "source": [
    "index_list=df1.columns\n",
    "index_list"
   ]
  },
  {
   "cell_type": "code",
   "execution_count": 18,
   "metadata": {},
   "outputs": [
    {
     "name": "stdout",
     "output_type": "stream",
     "text": [
      "(6993, 48)\n",
      "(6993, 3)\n"
     ]
    }
   ],
   "source": [
    "#delete empty columns\n",
    "print(df1.shape)\n",
    "del_col=['start_date_source','start_date_note_id', 'start_date_note_date', 'start_date_sent_id',\n",
    "       'start_date_evidence', 'start_date_matched_text', 'start_date_year',\n",
    "       'start_date_month', 'start_date_day', 'end_date_source',\n",
    "       'end_date_note_id', 'end_date_note_date', 'end_date_sent_id',\n",
    "       'end_date_evidence', 'end_date_matched_text', 'end_date_year',\n",
    "       'end_date_month', 'end_date_day', 'first_mentioned_note_id',\n",
    "       'first_mentioned_note_date', 'first_mentioned_evidence',\n",
    "       'first_mentioned_matched_text', 'last_mentioned_note_id',\n",
    "       'last_mentioned_note_date', 'last_mentioned_evidence',\n",
    "       'last_mentioned_text', 'cancer_diagnosis_id', 'person_id.1',\n",
    "       'cancer_type_id', 'year_of_diagnosis', 'month_of_diagnosis',\n",
    "       'day_of_diagnosis', 'ajcc_clinical_t', 'ajcc_clinical_n',\n",
    "       'ajcc_clinical_m', 'ajcc_pathological_t', 'ajcc_pathological_n',\n",
    "       'ajcc_pathological_m', 'overall_stage', 'histologic_type_id', 'status',\n",
    "       'created_at', 'updated_at', 'primary_site_id', 'edited_attributes']\n",
    "\n",
    "for col in del_col:\n",
    "    del df1[col]\n",
    "print(df1.shape)"
   ]
  },
  {
   "cell_type": "code",
   "execution_count": 19,
   "metadata": {},
   "outputs": [
    {
     "data": {
      "text/plain": [
       "[339, 345, 345, 345, 435]"
      ]
     },
     "execution_count": 19,
     "metadata": {},
     "output_type": "execute_result"
    }
   ],
   "source": [
    "#for this list of rows get the dx etc info \n",
    "result_row_list[:5]"
   ]
  },
  {
   "cell_type": "code",
   "execution_count": 35,
   "metadata": {},
   "outputs": [],
   "source": [
    "adt=['Goserelin','Histrelin','Leuprolide','Triptorelin','Degarelix']\n",
    "sec_gen=['Abiraterone', 'Enzalutamide','Apalutamide','Daralutamide']\n",
    "chemo=['Docetaxel','Cabazitaxel']\n",
    "sipu=['Sipuleucel-T']\n",
    "raduium=['Radium-223 Dichloride']\n",
    "parpi=['Olaparib','Rucaparib','Talazoparib']\n",
    "systemic=adt+sec_gen+chemo+sipu+raduium+parpi"
   ]
  },
  {
   "cell_type": "code",
   "execution_count": 36,
   "metadata": {},
   "outputs": [
    {
     "data": {
      "text/plain": [
       "['Goserelin',\n",
       " 'Histrelin',\n",
       " 'Leuprolide',\n",
       " 'Triptorelin',\n",
       " 'Degarelix',\n",
       " 'Abiraterone',\n",
       " 'Enzalutamide',\n",
       " 'Apalutamide',\n",
       " 'Daralutamide',\n",
       " 'Docetaxel',\n",
       " 'Cabazitaxel',\n",
       " 'Sipuleucel-T',\n",
       " 'Radium-223 Dichloride',\n",
       " 'Olaparib',\n",
       " 'Rucaparib',\n",
       " 'Talazoparib']"
      ]
     },
     "execution_count": 36,
     "metadata": {},
     "output_type": "execute_result"
    }
   ],
   "source": [
    "systemic"
   ]
  },
  {
   "cell_type": "markdown",
   "metadata": {},
   "source": [
    "# Assign drug code status <a class=\"anchor\" id=\"second-bullet\"></a>"
   ]
  },
  {
   "cell_type": "code",
   "execution_count": 38,
   "metadata": {},
   "outputs": [
    {
     "name": "stdout",
     "output_type": "stream",
     "text": [
      "[]\n",
      "False\n"
     ]
    }
   ],
   "source": [
    "y=11\n",
    "df1_pt=df1[(df1[\"person_id\"] == y)]\n",
    "pt_drug_list=df1_pt.cancer_drug.to_list()\n",
    "print(pt_drug_list)\n",
    "\n",
    "print(sys_stat)"
   ]
  },
  {
   "cell_type": "code",
   "execution_count": 52,
   "metadata": {},
   "outputs": [],
   "source": [
    "result_status_list=[]\n",
    "\n",
    "for y in result_row_list: \n",
    "    \n",
    "    df1_pt=df1[(df1[\"person_id\"] == y)]\n",
    "    pt_drug_list=df1_pt.cancer_drug.to_list()\n",
    "    \n",
    "    if len(pt_drug_list)==0:\n",
    "        sys_stat='NaN'\n",
    "        adt_stat='NaN'\n",
    "        sec_gen_stat='NaN'\n",
    "        chemo_stat='NaN'\n",
    "        sipu_stat='NaN'\n",
    "        raduium_stat='NaN'\n",
    "        parpi_stat='NaN'\n",
    "    \n",
    "    if len(pt_drug_list)>0:\n",
    "        sys_stat=bool(set(pt_drug_list) & set(systemic))  \n",
    "        adt_stat=bool(set(pt_drug_list) & set(adt))      \n",
    "        sec_gen_stat=bool(set(pt_drug_list) & set(sec_gen))    \n",
    "        chemo_stat=bool(set(pt_drug_list) & set(chemo))\n",
    "        sipu_stat=bool(set(pt_drug_list) & set(sipu))\n",
    "        raduium_stat=bool(set(pt_drug_list) & set(raduium))\n",
    "        parpi_stat=bool(set(pt_drug_list) & set(parpi))\n",
    "    \n",
    "    result_pt=[y,sys_stat,adt_stat,sec_gen_stat,chemo_stat,sipu_stat,raduium_stat,parpi_stat]\n",
    "    result_status_list.append(result_pt)    "
   ]
  },
  {
   "cell_type": "code",
   "execution_count": 53,
   "metadata": {},
   "outputs": [],
   "source": [
    "df_results=pd.DataFrame(result_status_list)\n",
    "df_results.columns=(['person_id', 'Received systemic therapy (Y/N)', 'Received ADT (Y/N)', 'Received 2nd generation antiandrogens (Y/N)', 'Received Chemotherapy (Y/N)', 'Received Sipuleucel-T (Y/N)', \"eceived Radium 223 (Y/N)\", \"Received PARP inhibitors (Y/N)\"])"
   ]
  },
  {
   "cell_type": "code",
   "execution_count": 54,
   "metadata": {},
   "outputs": [
    {
     "data": {
      "text/html": [
       "<div>\n",
       "<style scoped>\n",
       "    .dataframe tbody tr th:only-of-type {\n",
       "        vertical-align: middle;\n",
       "    }\n",
       "\n",
       "    .dataframe tbody tr th {\n",
       "        vertical-align: top;\n",
       "    }\n",
       "\n",
       "    .dataframe thead th {\n",
       "        text-align: right;\n",
       "    }\n",
       "</style>\n",
       "<table border=\"1\" class=\"dataframe\">\n",
       "  <thead>\n",
       "    <tr style=\"text-align: right;\">\n",
       "      <th></th>\n",
       "      <th>person_id</th>\n",
       "      <th>Received systemic therapy (Y/N)</th>\n",
       "      <th>Received ADT (Y/N)</th>\n",
       "      <th>Received 2nd generation antiandrogens (Y/N)</th>\n",
       "      <th>Received Chemotherapy (Y/N)</th>\n",
       "      <th>Received Sipuleucel-T (Y/N)</th>\n",
       "      <th>eceived Radium 223 (Y/N)</th>\n",
       "      <th>Received PARP inhibitors (Y/N)</th>\n",
       "    </tr>\n",
       "  </thead>\n",
       "  <tbody>\n",
       "    <tr>\n",
       "      <td>0</td>\n",
       "      <td>339</td>\n",
       "      <td>NaN</td>\n",
       "      <td>NaN</td>\n",
       "      <td>NaN</td>\n",
       "      <td>NaN</td>\n",
       "      <td>NaN</td>\n",
       "      <td>NaN</td>\n",
       "      <td>NaN</td>\n",
       "    </tr>\n",
       "    <tr>\n",
       "      <td>1</td>\n",
       "      <td>345</td>\n",
       "      <td>Y</td>\n",
       "      <td>Y</td>\n",
       "      <td>Y</td>\n",
       "      <td>Y</td>\n",
       "      <td>N</td>\n",
       "      <td>N</td>\n",
       "      <td>N</td>\n",
       "    </tr>\n",
       "    <tr>\n",
       "      <td>2</td>\n",
       "      <td>345</td>\n",
       "      <td>Y</td>\n",
       "      <td>Y</td>\n",
       "      <td>Y</td>\n",
       "      <td>Y</td>\n",
       "      <td>N</td>\n",
       "      <td>N</td>\n",
       "      <td>N</td>\n",
       "    </tr>\n",
       "    <tr>\n",
       "      <td>3</td>\n",
       "      <td>345</td>\n",
       "      <td>Y</td>\n",
       "      <td>Y</td>\n",
       "      <td>Y</td>\n",
       "      <td>Y</td>\n",
       "      <td>N</td>\n",
       "      <td>N</td>\n",
       "      <td>N</td>\n",
       "    </tr>\n",
       "    <tr>\n",
       "      <td>4</td>\n",
       "      <td>435</td>\n",
       "      <td>Y</td>\n",
       "      <td>Y</td>\n",
       "      <td>N</td>\n",
       "      <td>N</td>\n",
       "      <td>N</td>\n",
       "      <td>N</td>\n",
       "      <td>N</td>\n",
       "    </tr>\n",
       "  </tbody>\n",
       "</table>\n",
       "</div>"
      ],
      "text/plain": [
       "  person_id Received systemic therapy (Y/N) Received ADT (Y/N)  \\\n",
       "0       339                             NaN                NaN   \n",
       "1       345                               Y                  Y   \n",
       "2       345                               Y                  Y   \n",
       "3       345                               Y                  Y   \n",
       "4       435                               Y                  Y   \n",
       "\n",
       "  Received 2nd generation antiandrogens (Y/N) Received Chemotherapy (Y/N)  \\\n",
       "0                                         NaN                         NaN   \n",
       "1                                           Y                           Y   \n",
       "2                                           Y                           Y   \n",
       "3                                           Y                           Y   \n",
       "4                                           N                           N   \n",
       "\n",
       "  Received Sipuleucel-T (Y/N) eceived Radium 223 (Y/N)  \\\n",
       "0                         NaN                      NaN   \n",
       "1                           N                        N   \n",
       "2                           N                        N   \n",
       "3                           N                        N   \n",
       "4                           N                        N   \n",
       "\n",
       "  Received PARP inhibitors (Y/N)  \n",
       "0                            NaN  \n",
       "1                              N  \n",
       "2                              N  \n",
       "3                              N  \n",
       "4                              N  "
      ]
     },
     "execution_count": 54,
     "metadata": {},
     "output_type": "execute_result"
    }
   ],
   "source": [
    "df_results = df_results.applymap(str)\n",
    "df_results = df_results.replace({'True': 'Y'}, regex=True)\n",
    "df_results = df_results.replace({'False': 'N'}, regex=True)\n",
    "\n",
    "df_results[:5]"
   ]
  },
  {
   "cell_type": "code",
   "execution_count": 55,
   "metadata": {},
   "outputs": [],
   "source": [
    "df_results.to_csv(\"pca_pts_400pts_Systemic_status_All_Rows_Mar2_2021_newtale_fixed_lost_ptlist.csv\", encoding='utf-8', index=False)"
   ]
  },
  {
   "cell_type": "markdown",
   "metadata": {},
   "source": [
    "Sipuleucel-T\n",
    "Leuprolide\n",
    "Radium-223 Dichloride\n",
    "\n",
    "Bicalutamide\n",
    "Docetaxel\n",
    "Goserelin\n",
    "Histrelin\n",
    "Triptorelin\n",
    "Abiraterone\n",
    "\n",
    "Enzalutamide\n",
    "Apalutamide\n",
    "\n",
    "Olaparib\n",
    "Rucaparib\n",
    "Talazoparib"
   ]
  },
  {
   "cell_type": "code",
   "execution_count": null,
   "metadata": {},
   "outputs": [],
   "source": []
  }
 ],
 "metadata": {
  "kernelspec": {
   "display_name": "Python 3",
   "language": "python",
   "name": "python3"
  },
  "language_info": {
   "codemirror_mode": {
    "name": "ipython",
    "version": 3
   },
   "file_extension": ".py",
   "mimetype": "text/x-python",
   "name": "python",
   "nbconvert_exporter": "python",
   "pygments_lexer": "ipython3",
   "version": "3.7.4"
  }
 },
 "nbformat": 4,
 "nbformat_minor": 2
}
